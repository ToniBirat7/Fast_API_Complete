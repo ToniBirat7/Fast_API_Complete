{
 "cells": [
  {
   "cell_type": "markdown",
   "id": "75baa3b6",
   "metadata": {},
   "source": [
    "## **Intro**\n",
    "\n",
    "`FastAPI` is a modern, fast (high-performance), web framework for building APIs with Python 3.7+ based on standard Python type hints. It is designed to be easy to use and to provide high performance, making it a popular choice for building web applications and APIs.\n",
    "\n",
    "It is built on top of `Starlette` for the web parts and `Pydantic` for the data parts. `FastAPI` is known for its speed, ease of use, and automatic generation of interactive API documentation.\n",
    "\n",
    "[Official_Documentation](https://fastapi.tiangolo.com/reference/)\n",
    "\n",
    "<hr>\n"
   ]
  },
  {
   "cell_type": "markdown",
   "id": "21305786",
   "metadata": {},
   "source": [
    "<hr>\n",
    "<hr>\n",
    "<hr>\n"
   ]
  },
  {
   "cell_type": "markdown",
   "id": "5fadff42",
   "metadata": {},
   "source": [
    "First install `FastAPI` as:\n",
    "\n",
    "```bash\n",
    "pip install \"fastapi[standard]\"\n",
    "```\n",
    "\n",
    "Then create a file named `main.py` and add the following code:\n"
   ]
  },
  {
   "cell_type": "markdown",
   "id": "df6f823d",
   "metadata": {},
   "source": [
    "Use as we create routes in `Express.js`, it's similar in `FastAPI`. We define endpoints using decorators like `@app.get()`, `@app.post()`, etc. Here's a simple example of a FastAPI application with a single route:\n",
    "\n",
    "```python\n",
    "from fastapi import FastAPI\n",
    "\n",
    "app = FastAPI()\n",
    "\n",
    "@app.get(\"/\")\n",
    "async def home():\n",
    "  return {\"msg\" : \"Welcome Home\"}\n",
    "\n",
    "```\n",
    "\n",
    "Then, you can run\n",
    "\n",
    "```bash\n",
    "\n",
    "```\n"
   ]
  }
 ],
 "metadata": {
  "language_info": {
   "name": "python"
  }
 },
 "nbformat": 4,
 "nbformat_minor": 5
}
